{
 "cells": [
  {
   "cell_type": "markdown",
   "metadata": {},
   "source": [
    "# Introdução a inteligencia Artificial"
   ]
  },
  {
   "cell_type": "markdown",
   "metadata": {},
   "source": [
    "## Entender a inteligência artificial, além das ferramentas tem suas vantagens:"
   ]
  },
  {
   "cell_type": "markdown",
   "metadata": {},
   "source": [
    "- Você pode aprender a criar suas próprias soluções\n",
    "- Criar startups e empresas inovadoras\n",
    "- Pode apresentar as soluções prontas com autoridade\n",
    "- Pode utilizar-se de modelos pré-treinados\n",
    "- Preparar o currículo para novos empregos e oportunidades\n",
    "- Se atualizar de novos recursos tecnológicos"
   ]
  },
  {
   "cell_type": "code",
   "execution_count": 5,
   "metadata": {},
   "outputs": [
    {
     "name": "stdout",
     "output_type": "stream",
     "text": [
      "CEP:  72318-504\n",
      "Logradouro:  Quadra QN 402 Conjunto D Comércio\n",
      "Complemento:  \n",
      "Bairro:  Samambaia Norte (Samambaia)\n",
      "Cidade:  Brasília\n",
      "Estado:  DF\n"
     ]
    }
   ],
   "source": [
    "import requests  # Importa a biblioteca 'requests' para fazer requisições HTTP\n",
    "import json  # Importa a biblioteca 'json' para manipulação de dados JSON\n",
    "\n",
    "# Solicita ao usuário que insira o CEP desejado\n",
    "cep = input(\"Digite o CEP desejado: \")\n",
    "\n",
    "# Monta a URL para acessar a API ViaCEP com o CEP informado pelo usuário\n",
    "url = f\"https://viacep.com.br/ws/{cep}/json/\"\n",
    "\n",
    "# Envia uma requisição GET para a URL e armazena a resposta na variável 'response'\n",
    "response = requests.get(url)\n",
    "\n",
    "# Verifica se a requisição foi bem-sucedida (status code 200)\n",
    "if response.status_code == 200:\n",
    "    # Converte o conteúdo da resposta (em JSON) para um dicionário Python\n",
    "    data = json.loads(response.content)\n",
    "    \n",
    "    # Exibe as informações do endereço obtidas através do dicionário 'data'\n",
    "    print(\"CEP: \", data[\"cep\"])  # Exibe o CEP\n",
    "    print(\"Logradouro: \", data[\"logradouro\"])  # Exibe o logradouro (rua/avenida)\n",
    "    print(\"Complemento: \", data[\"complemento\"])  # Exibe o complemento (se houver)\n",
    "    print(\"Bairro: \", data[\"bairro\"])  # Exibe o bairro\n",
    "    print(\"Cidade: \", data[\"localidade\"])  # Exibe a cidade (localidade)\n",
    "    print(\"Estado: \", data[\"uf\"])  # Exibe o estado (UF)\n",
    "else:\n",
    "    # Caso o código de status não seja 200, exibe uma mensagem de erro\n",
    "    print(\"Não foi possível obter informações para o CEP informado.\")"
   ]
  }
 ],
 "metadata": {
  "kernelspec": {
   "display_name": ".venv",
   "language": "python",
   "name": "python3"
  },
  "language_info": {
   "codemirror_mode": {
    "name": "ipython",
    "version": 3
   },
   "file_extension": ".py",
   "mimetype": "text/x-python",
   "name": "python",
   "nbconvert_exporter": "python",
   "pygments_lexer": "ipython3",
   "version": "3.12.5"
  }
 },
 "nbformat": 4,
 "nbformat_minor": 2
}
